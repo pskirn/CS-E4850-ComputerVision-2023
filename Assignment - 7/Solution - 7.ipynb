{
 "cells": [
  {
   "cell_type": "code",
   "execution_count": 3,
   "metadata": {
    "tags": []
   },
   "outputs": [
    {
     "data": {
      "text/html": [
       "<script>\n",
       "code_show=true;\n",
       "function code_toggle() {\n",
       "if (code_show){\n",
       "$('div.input').hide();\n",
       "} else {\n",
       "$('div.input').show();\n",
       "}\n",
       "code_show = !code_show\n",
       "}\n",
       "$( document ).ready(code_toggle);\n",
       "</script>\n",
       "<form action=\"javascript:code_toggle()\"><input type=\"submit\" value=\"Click here to toggle on/off the raw code.\"></form>"
      ],
      "text/plain": [
       "<IPython.core.display.HTML object>"
      ]
     },
     "execution_count": 3,
     "metadata": {},
     "output_type": "execute_result"
    }
   ],
   "source": [
    "# This cell is used for creating a button that hides/unhides code cells to quickly look only the results.\n",
    "# Works only with Jupyter Notebooks.\n",
    "\n",
    "import os\n",
    "from IPython.display import HTML\n",
    "\n",
    "\n",
    "HTML('''<script>\n",
    "code_show=true;\n",
    "function code_toggle() {\n",
    "if (code_show){\n",
    "$('div.input').hide();\n",
    "} else {\n",
    "$('div.input').show();\n",
    "}\n",
    "code_show = !code_show\n",
    "}\n",
    "$( document ).ready(code_toggle);\n",
    "</script>\n",
    "<form action=\"javascript:code_toggle()\"><input type=\"submit\" value=\"Click here to toggle on/off the raw code.\"></form>''')"
   ]
  },
  {
   "cell_type": "code",
   "execution_count": 4,
   "metadata": {
    "tags": []
   },
   "outputs": [
    {
     "name": "stderr",
     "output_type": "stream",
     "text": [
      "[nltk_data] Downloading package punkt to /home/pullabs1/nltk_data...\n",
      "[nltk_data]   Package punkt is already up-to-date!\n"
     ]
    }
   ],
   "source": [
    "import matplotlib.pyplot as plt\n",
    "%matplotlib inline\n",
    "import nltk\n",
    "nltk.download('punkt')\n",
    "\n",
    "from nltk import word_tokenize\n",
    "from string import punctuation"
   ]
  },
  {
   "cell_type": "code",
   "execution_count": 30,
   "metadata": {
    "tags": []
   },
   "outputs": [
    {
     "name": "stdout",
     "output_type": "stream",
     "text": [
      "The data directory is /coursedata\n",
      "Data stored in /coursedata/exercise-07-data\n"
     ]
    }
   ],
   "source": [
    "# Description:\n",
    "#   Exercise7 notebook.\n",
    "#\n",
    "# Copyright (C) 2018 Santiago Cortes, Juha Ylioinas\n",
    "#\n",
    "# This software is distributed under the GNU General Public \n",
    "# Licence (version 2 or later); please refer to the file \n",
    "# Licence.txt, included with the software, for details.\n",
    "\n",
    "# Preparations\n",
    "import numpy as np\n",
    "\n",
    "# Select data directory\n",
    "if os.path.isdir('/coursedata'):\n",
    "    # JupyterHub\n",
    "    course_data_dir = '/coursedata'\n",
    "elif os.path.isdir('../../../coursedata'):\n",
    "    # Local installation\n",
    "    course_data_dir = '../../../coursedata'\n",
    "else:\n",
    "    # Docker\n",
    "    course_data_dir = '/home/jovyan/work/coursedata/'\n",
    "\n",
    "print('The data directory is %s' % course_data_dir)\n",
    "data_dir = os.path.join(course_data_dir, 'exercise-07-data')\n",
    "print('Data stored in %s' % data_dir)"
   ]
  },
  {
   "cell_type": "markdown",
   "metadata": {
    "tags": []
   },
   "source": [
    "# CS-E4850 Computer Vision Exercise Round 7\n",
    "The problems should be solved before the exercise session and solutions returned via\n",
    "MyCourses. <br><br> For this exercise round, upload this notebook(pdf and .ipynb versions) containing your source codes (for Exercise 1) and your answer to the question of Exercise2, and all the answers to the questions of Exercise 3 (VGG practical), see part[1-3].ipynb. Note that it's not necessary to upload part1.ipynb, part2.ipynb or part3.ipynb, because all of the necessary questions related to them are contained in this notebook and you're not expected to do any coding in Exercises 2 and 3."
   ]
  },
  {
   "cell_type": "markdown",
   "metadata": {},
   "source": [
    "## Exercise 1 - Comparing  bags-of-words  with  tf-idf  weighting\n",
    "Assume  that  we  have  an  indexed  collection  of  documents  containing  the  five  terms  of the following table where the second row indicates the percentage of documents in which each term appears.<br>\n",
    "\n",
    "| term | cat | dog |mammals | mouse | pet |\n",
    "| --- | :---: | :---: | :---: | :---: | :---: |\n",
    "| **% of documents** | 5 | 20 | 2 | 10 | 60 |\n",
    "\n",
    "Now, given the query $Q=\\{mouse, cat, pet, mammals\\}$, compute the similarity between $Q$ and the following example documents $D1$, $D2$, $D3$, by using the cosine similarity measure and tf-idf weights (i.e. term frequency - inverse document frequency) for the bag-of-words histogram representations of the documents and the query.\n",
    "\n",
    "-  $D1$ = Cat is a pet, dog is a pet, and mouse may be a pet too.\n",
    "-  $D2$ = Cat, dog and mouse are all mammals.\n",
    "-  $D3$ = Cat and dog get along well, but cat may eat a mouse.\n",
    "\n",
    "Ignore other words except the five terms, which are listed in the table above. You may proceed with the following steps:\n",
    "\n",
    "a) Compute and report the inverse document frequency (idf) for each of the five terms. Use the logarithm with base 2.  (idf is the logarithm term on slide 69 of Lecture 6 where values $n_i/N$ are given in the table above.)<br>\n",
    "b) Compute the term frequencies for the query and each document. <br>\n",
    "c) Form the tf-idf weighted word occurrence histograms for the query and documents. <br>\n",
    "d) Evaluate the cosine similarity between the query and each document (i.e.\\ normalized scalar product between the weighted occurrence histograms as shown on slide 45).<br> \n",
    "e) Report the relative ranking of the documents. (You should get similarities 0.95, 0.64, and 0.63, but you need to determine which corresponds to which document.)<br>"
   ]
  },
  {
   "cell_type": "markdown",
   "metadata": {},
   "source": [
    "## A) Compute and report the inverse document frequency (idf) for each of the five terms. "
   ]
  },
  {
   "cell_type": "code",
   "execution_count": 38,
   "metadata": {
    "tags": []
   },
   "outputs": [
    {
     "data": {
      "text/plain": [
       "{'cat': 4.321928094887363,\n",
       " 'dog': 2.321928094887362,\n",
       " 'mammals': 5.643856189774724,\n",
       " 'mouse': 3.321928094887362,\n",
       " 'pet': 0.7369655941662062}"
      ]
     },
     "execution_count": 38,
     "metadata": {},
     "output_type": "execute_result"
    }
   ],
   "source": [
    "## Comparing  bags-of-words  with  tf-idf  weighting\n",
    "##--your-code-starts-here--##\n",
    "# a.) idf for each of five terms.\n",
    "terms = {'cat':0.05, 'dog':0.2 , 'mammals':0.02 , 'mouse':0.1,'pet':0.60}\n",
    "idf = {key: np.log2(1/values) for key, values in terms.items()}\n",
    "idf\n"
   ]
  },
  {
   "cell_type": "markdown",
   "metadata": {},
   "source": [
    "## B) Term frequency for query and each document. "
   ]
  },
  {
   "cell_type": "code",
   "execution_count": 32,
   "metadata": {
    "tags": []
   },
   "outputs": [
    {
     "name": "stdout",
     "output_type": "stream",
     "text": [
      "Term Frequency for Query {'mouse': 0.25, 'cat': 0.25, 'pet': 0.25, 'mammals': 0.25}\n",
      "Term Frequency for Document 1 {'cat': 0.067, 'is': 0.133, 'a': 0.2, 'pet': 0.2, 'dog': 0.067, 'and': 0.067, 'mouse': 0.067, 'may': 0.067, 'be': 0.067, 'too': 0.067}\n",
      "Term Frequency for Document 2 {'cat': 0.143, 'dog': 0.143, 'and': 0.143, 'mouse': 0.143, 'are': 0.143, 'all': 0.143, 'mammals': 0.143}\n",
      "Term Frequency for Document 3 {'cat': 0.167, 'and': 0.083, 'dog': 0.083, 'get': 0.083, 'along': 0.083, 'well': 0.083, 'but': 0.083, 'may': 0.083, 'eat': 0.083, 'a': 0.083, 'mouse': 0.083}\n"
     ]
    }
   ],
   "source": [
    "# b) term frequency for query and each document.\n",
    "Q = ['mouse', 'cat','pet','mammals']\n",
    "D1 = \"Cat is a pet, dog is a pet, and mouse may be a pet too.\"\n",
    "D2 = \"Cat, dog and mouse are all mammals.\"\n",
    "D3 = \"Cat and dog get along well, but cat may eat a mouse.\"\n",
    "\n",
    "def clean(document):\n",
    "    return[word.lower() for word in word_tokenize(document) if word not in punctuation]\n",
    "\n",
    "v1 = clean(D1)\n",
    "v2 = clean(D2)\n",
    "v3 = clean(D3)\n",
    "\n",
    "from collections import Counter\n",
    "\n",
    "def build_tf(document):\n",
    "    N = len(document)\n",
    "    word_counts = Counter(document)\n",
    "    tf = {word: round(count/N, 3) for word, count in word_counts.items()}\n",
    "    return tf\n",
    "tf_q = build_tf(Q)\n",
    "print(\"Term Frequency for Query\", tf_q)\n",
    "tf_v1 = build_tf(v1)\n",
    "print(\"Term Frequency for Document 1\", tf_v1)\n",
    "tf_v2 = build_tf(v2)\n",
    "print(\"Term Frequency for Document 2\", tf_v2)\n",
    "tf_v3 = build_tf(v3)\n",
    "print(\"Term Frequency for Document 3\", tf_v3)\n"
   ]
  },
  {
   "cell_type": "markdown",
   "metadata": {},
   "source": [
    "## C) Form the tf-idf weighted word occurrence histograms for the query and documents. "
   ]
  },
  {
   "cell_type": "code",
   "execution_count": 33,
   "metadata": {
    "tags": []
   },
   "outputs": [
    {
     "data": {
      "image/png": "[encoded data removed]",
      "text/plain": [
       "<Figure size 1600x1000 with 4 Axes>"
      ]
     },
     "metadata": {},
     "output_type": "display_data"
    }
   ],
   "source": [
    "# c) Form the tf-idf weighted word occurrence histograms for the query and documents.\n",
    "titles = [\"Query\" , \"D1\", \"D2\" , \"D3\"]\n",
    "\n",
    "fig, axes = plt.subplots(figsize = (16,10), ncols =2, nrows=2)\n",
    "\n",
    "tf_ls = [tf_q, tf_v1, tf_v2, tf_v3]\n",
    "tf_idf_dict = {}\n",
    "\n",
    "for i in range(len(tf_ls)):\n",
    "    tf_idf = {names: 0 for names in terms}\n",
    "    tf = tf_ls[i]\n",
    "    \n",
    "    for term in tf:\n",
    "        if term in idf:\n",
    "            tf_idf[term] = tf[term] * idf[term]\n",
    "    \n",
    "    tf_idf_dict[titles[i]] = tf_idf\n",
    "    \n",
    "    names = list(tf_idf.keys())\n",
    "    values = list(tf_idf.values())\n",
    "    \n",
    "    axes[int(i/2)][i%2].bar(range(len(tf_idf)), values, tick_label=names)\n",
    "    axes[int(i/2)][i%2].set_title(titles[i])\n",
    "             "
   ]
  },
  {
   "cell_type": "code",
   "execution_count": 34,
   "metadata": {
    "tags": []
   },
   "outputs": [
    {
     "name": "stdout",
     "output_type": "stream",
     "text": [
      "{'D1': {'cat': 0.2895691823574533,\n",
      "        'dog': 0.15556918235745326,\n",
      "        'mammals': 0,\n",
      "        'mouse': 0.22256918235745327,\n",
      "        'pet': 0.14739311883324124},\n",
      " 'D2': {'cat': 0.6180357175688928,\n",
      "        'dog': 0.3320357175688928,\n",
      "        'mammals': 0.8070714351377856,\n",
      "        'mouse': 0.47503571756889273,\n",
      "        'pet': 0},\n",
      " 'D3': {'cat': 0.7217619918461896,\n",
      "        'dog': 0.19272003187565107,\n",
      "        'mammals': 0,\n",
      "        'mouse': 0.2757200318756511,\n",
      "        'pet': 0},\n",
      " 'Query': {'cat': 1.0804820237218407,\n",
      "           'dog': 0,\n",
      "           'mammals': 1.410964047443681,\n",
      "           'mouse': 0.8304820237218405,\n",
      "           'pet': 0.18424139854155155}}\n"
     ]
    }
   ],
   "source": [
    "from pprint import pprint\n",
    "pprint(tf_idf_dict)"
   ]
  },
  {
   "cell_type": "markdown",
   "metadata": {},
   "source": [
    "## D) Evaluate the cosine similarity between the query and each document. "
   ]
  },
  {
   "cell_type": "code",
   "execution_count": 36,
   "metadata": {
    "tags": []
   },
   "outputs": [
    {
     "name": "stdout",
     "output_type": "stream",
     "text": [
      "Cosine similarity between Query and Document 1 0.6291036970635482\n",
      "Cosine similarity between Query and Document 2 0.9546948111493485\n",
      "Cosine similarity between Query and Document 3 0.6430077230767424\n"
     ]
    }
   ],
   "source": [
    "\n",
    "def sim(query, d):\n",
    "    numerator = sum([d[term]*query[term] for term in query])\n",
    "    denominator = np.sqrt(sum([d[term]**2 for term in d])) * np.sqrt(sum([query[term]**2 for term in query]))\n",
    "    return numerator / denominator\n",
    "\n",
    "print(\"Cosine similarity between Query and Document 1\",sim(tf_idf_dict['Query'], tf_idf_dict['D1']))\n",
    " \n",
    "print(\"Cosine similarity between Query and Document 2\" , sim(tf_idf_dict['Query'], tf_idf_dict['D2']))\n",
    "\n",
    "print(\"Cosine similarity between Query and Document 3\" , sim(tf_idf_dict['Query'], tf_idf_dict['D3']))\n",
    "\n"
   ]
  },
  {
   "cell_type": "markdown",
   "metadata": {},
   "source": [
    "## E) Report the relative ranking of the documents. \n",
    "\n",
    "DOCUMENT 2 IS 0.95, DOCUMENT 3 IS 0.64, DOCUMENT 1 IS 0.63\n"
   ]
  },
  {
   "cell_type": "markdown",
   "metadata": {},
   "source": [
    "## Exercise 2 - Precision  and  recall\n",
    "There is a database of 10000 images and a user, who is only interested in images which contain a car. It is known that there are 500 such images in the database. An  automatic image retrieval system retrieves 300 car images and 50 other images from the database. Determine and report the precision and recall of the retrieval  system in this particular case.<br> \n",
    "(Hint: Precision and recall are explained on slide 67 of Lecture 6 and there is a good explanation also in Wikipedia.)"
   ]
  },
  {
   "cell_type": "markdown",
   "metadata": {},
   "source": [
    "Type your answer here: \n",
    "\n",
    "Precision = true positive(TP) / true positive (TP) + false positive (FP) = 300/(300 + 50 )= 300/350 = 0.857\n",
    "\n",
    "Recall = true positive (TP) / positive samples (P) = 300/500 = 0.6"
   ]
  },
  {
   "cell_type": "markdown",
   "metadata": {},
   "source": [
    "## Exercise 3 - VGG practical on object instance recognition\n",
    "See the questions in part[1-3].ipynb and write your answers here.\n",
    "\n",
    "Part1:\n",
    "Stage I.A (two questions)\n",
    "Stage I.B (two questions)\n",
    "Stage I.C (one question)\n",
    "\n",
    "Part2 (one question)\n",
    "\n",
    "Part3:\n",
    "Stage III.A (three questions)\n",
    "Stage III.B (one question)\n",
    "Stage III.C (two questions)\n",
    "\n",
    "Answering questions in part 1 corresponds to one bonus point and parts 2 and 3 together correspond to one additional point. Hence, in total this third task is worth of 2 points, whereas the previous tasks (Exercise 1 and Exercise 2) are both worth of 1 point so that in total this homework round is worth of 4 points."
   ]
  },
  {
   "cell_type": "markdown",
   "metadata": {},
   "source": [
    "Type your answers here: \n",
    "\n",
    "PART - 1 :\n",
    "\n",
    "STAGE I.A \n",
    "\n",
    "1) Question: Note the change in density of detections across the image. Why does it change? Will it be a problem for matching? How could it be avoided?\n",
    "\n",
    "ans: The change in the density of detections across the image is primarily due to variations in image content and structure. this is due to texture and contrast, gradient information and local features. While the change is not necessarily a probelm for matching, it can ffect the overall performance of feature matching and object recognition. This can be avoided by Adaptive parameter selection, thresholding and subsampling.\n",
    "\n",
    "2) Question: Occasionally, a feature is detected multiple times, with different orientations. This may happen when the orientation assignment is ambiguous. Which kind of image structure would result in ambiguous orientation assignment?\n",
    "\n",
    "ans:Ambiguous orientation assignment happens in regions with low gradients, repetitive patterns and low contrast. It results in keypoints with multiple possibel orientations. MAtching algorithms should handle these cases and consider multiple descriptors for each orientation.\n",
    "\n",
    "\n",
    "STAGE I.B\n",
    "\n",
    "1) Question: Note the descriptors are computed over a much larger region (shown in blue) than the detection (shown in green). Why?\n",
    "\n",
    "ans: The descriptors are computed over the blue region which is larger than the detected which is green because the SIFT descriptors need a broader context to capture detailed image formation which makes them more robust for matching keypoints.\n",
    "\n",
    "2) Question: Notice that there are many mismatches. Examine some of the mismatches to understand why the mistakes are being made. For example, is the change in lighting a problem? What additional constraints can be applied to remove the mismatches?\n",
    "\n",
    "ans: Mismatches occur due to various reasons, including changes in lighting, similar local patterns, repeating structures and outliers. To remove mismatches we can apply distance ratioo filtering, RANSAC, Lowe's ratio test.\n",
    "\n",
    "\n",
    "STAGE I.C\n",
    "\n",
    "1) Question: Examine some of the remaining mismatches to understand why they have occurred. How could they be removed?\n",
    "\n",
    "ans: with nnthreshold =0.8, some mismatches may occur due to repeating structures, outliers and nearby similar keypoints. To further remove mismatches we can apply geometeric constraints, filter out close keypoints and fine tune nnthreshold.\n",
    "\n",
    "\n",
    "\n",
    "PART - 2:\n",
    "\n",
    "1) Question: The transformation between the images induced by the plane is a planar homography. The detections are only affine co-variant (not as general as a planar homography). So how can descriptors computed on these detections possibly match?\n",
    "\n",
    "ans: The descriptors computed by the detectors can match because they are designed to find regions that can be affected by foreshortening, perspective distortions and other transformations caused by changing viewpoints.\n",
    "\n",
    "\n",
    "PART - 3: \n",
    "\n",
    "STAGE III - A:\n",
    "\n",
    "1) Questions: The size of the vocabulary (the number of clusters) is an important parameter in visual word algorithms. How does the size affect the number of inliers and the difficulty of computing the transformation?\n",
    "\n",
    "ans: Larger vocabulary can potentially lead to more inliner and also may increase the computational complexity of transformation calculation.\n",
    "\n",
    "2) In the above procedure the time required to convert the descriptors into visual words was not accounted for. Why?\n",
    "\n",
    "ans: Quantization of descriptors into visual words is typically a one-time preprocessing step and it's not part of the real-time image matching and is assumed to be precomputed.\n",
    "\n",
    "3) What is the speedup in searching a large, fixed database of 10, 100, 1000 images?\n",
    "\n",
    "ans: The speedup depends on factors like size of dataset, hardware and implementation efficiency. Visual words can speed up the search by reducing dimensionality and using efficent data structures. The exact speedup varies and needs empirical testing.\n",
    "\n",
    "\n",
    "STAGE III - B:\n",
    "\n",
    "1) Question: Why does the top image have a score of 1 (0.9698... see the NOTE above)?\n",
    "\n",
    "ans: It indicates the retrieval system correctly identifies the top result as an image that is nearly identical to the query image. The high score indicates the strong similarity between the query image and top retrieved image.\n",
    "\n",
    "\n",
    "\n",
    "STAGE III - C:\n",
    "\n",
    "1) Question: Why is the top score much larger than 1 now?\n",
    "\n",
    "ans: The top score is larger than 1 because it reflects the number of geometically verified inlier matches, which can be any positive integer. It quantifies the quality of matches, not just their presence.\n",
    "\n",
    "\n",
    "2) Question: Are the retrieval results improved after geometric verification?\n",
    "\n",
    "ans: YES, retrieval results are likely improved after geometric verification. It refines results by considering both visual similarity and geometric consistency reducing false positives and increasing retrieval accuracy."
   ]
  }
 ],
 "metadata": {
  "kernelspec": {
   "display_name": "Python 3",
   "language": "python",
   "name": "python3"
  },
  "language_info": {
   "codemirror_mode": {
    "name": "ipython",
    "version": 3
   },
   "file_extension": ".py",
   "mimetype": "text/x-python",
   "name": "python",
   "nbconvert_exporter": "python",
   "pygments_lexer": "ipython3",
   "version": "3.10.8"
  },
  "vscode": {
   "interpreter": {
    "hash": "31f2aee4e71d21fbe5cf8b01ff0e069b9275f58929596ceb00d14d90e3e16cd6"
   }
  }
 },
 "nbformat": 4,
 "nbformat_minor": 4
}
